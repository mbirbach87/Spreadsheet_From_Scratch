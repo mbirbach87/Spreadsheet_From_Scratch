{
 "cells": [
  {
   "cell_type": "markdown",
   "metadata": {},
   "source": [
    "## Stock/Portfolio Spreadsheet\n",
    "In this notebook I will show a basic spreadsheet. Who needs Excel when you can code!"
   ]
  },
  {
   "cell_type": "code",
   "execution_count": 3,
   "metadata": {},
   "outputs": [],
   "source": [
    "#Imports\n",
    "import pandas as pd\n",
    "import numpy as np\n",
    "import matplotlib.pyplot as plt\n",
    "%matplotlib inline"
   ]
  },
  {
   "cell_type": "markdown",
   "metadata": {},
   "source": [
    "The key to creating a spreadsheet from scratch is to create a dictionary. "
   ]
  },
  {
   "cell_type": "code",
   "execution_count": 7,
   "metadata": {},
   "outputs": [],
   "source": [
    "begin= {\n",
    "    \"Date\":'2018-11-01',\n",
    "    \"Ticker\":'QQQ',\n",
    "    \"Shares\":1000,\n",
    "    \"Buy\": 169.70,\n",
    "    \"Sell\":171.00,\n",
    "    \"Commission\": 0\n",
    "    \n",
    "}"
   ]
  },
  {
   "cell_type": "markdown",
   "metadata": {},
   "source": [
    "The next step is to create a nested dictionary: This will allow everything to work"
   ]
  },
  {
   "cell_type": "code",
   "execution_count": 8,
   "metadata": {},
   "outputs": [
    {
     "data": {
      "text/plain": [
       "{'2018-11-01': {'Date': '2018-11-01',\n",
       "  'Ticker': 'QQQ',\n",
       "  'Shares': 1000,\n",
       "  'Buy': 169.7,\n",
       "  'Sell': 171.0,\n",
       "  'Commission': 0}}"
      ]
     },
     "metadata": {},
     "output_type": "display_data"
    }
   ],
   "source": [
    "stock = {\n",
    "    begin['Date']:begin\n",
    "}\n",
    "\n",
    "display(stock)"
   ]
  },
  {
   "cell_type": "markdown",
   "metadata": {},
   "source": [
    "Set a formula so that I can update dictionary with new trades"
   ]
  },
  {
   "cell_type": "code",
   "execution_count": 9,
   "metadata": {},
   "outputs": [],
   "source": [
    "def add_date(stock_dict, Date, Ticker, Shares, Buy, Sell, Commission):\n",
    "    new_date = {\n",
    "        \"Date\": Date,\n",
    "        \"Ticker\": Ticker,\n",
    "        \"Shares\": Shares,\n",
    "        \"Buy\": Buy,\n",
    "        \"Sell\": Sell,\n",
    "        \"Commission\": Commission\n",
    "        \n",
    "        \n",
    "        \n",
    "    }\n",
    "    stock_dict[new_date['Date']] = new_date \n",
    "    print(\"{} added!\".format(new_date['Date']))     "
   ]
  },
  {
   "cell_type": "markdown",
   "metadata": {},
   "source": [
    "Now can enter the trades in 1 line of code: The added! gives confimation"
   ]
  },
  {
   "cell_type": "code",
   "execution_count": 14,
   "metadata": {},
   "outputs": [
    {
     "name": "stdout",
     "output_type": "stream",
     "text": [
      "2018-11-02 added!\n"
     ]
    }
   ],
   "source": [
    "add_date(stock, '2018-11-02', 'QQQ', 1000, 170.00, 171.00, 0)"
   ]
  },
  {
   "cell_type": "code",
   "execution_count": 15,
   "metadata": {
    "scrolled": true
   },
   "outputs": [
    {
     "name": "stdout",
     "output_type": "stream",
     "text": [
      "2018-11-03 added!\n"
     ]
    }
   ],
   "source": [
    "add_date(stock, '2018-11-03', 'QQQ', 1000, 170.00, 169.00, 0)"
   ]
  },
  {
   "cell_type": "code",
   "execution_count": 20,
   "metadata": {},
   "outputs": [
    {
     "name": "stdout",
     "output_type": "stream",
     "text": [
      "2018-11-04 added!\n"
     ]
    }
   ],
   "source": [
    "add_date(stock, '2018-11-04', 'QQQ', 1000, 168.12, 166.57, 0)"
   ]
  },
  {
   "cell_type": "code",
   "execution_count": 38,
   "metadata": {},
   "outputs": [
    {
     "name": "stdout",
     "output_type": "stream",
     "text": [
      "2018-11-05 added!\n"
     ]
    }
   ],
   "source": [
    "add_date(stock, '2018-11-05', 'QQQ', 1000, 166.50, 168.13, 0)"
   ]
  },
  {
   "cell_type": "code",
   "execution_count": 39,
   "metadata": {},
   "outputs": [
    {
     "name": "stdout",
     "output_type": "stream",
     "text": [
      "2018-11-06 added!\n"
     ]
    }
   ],
   "source": [
    "add_date(stock, '2018-11-06', 'QQQ', 1000, 168.50, 168.90, 0)"
   ]
  },
  {
   "cell_type": "code",
   "execution_count": 59,
   "metadata": {},
   "outputs": [
    {
     "name": "stdout",
     "output_type": "stream",
     "text": [
      "2018-11-07 added!\n"
     ]
    }
   ],
   "source": [
    "add_date(stock, '2018-11-07', 'QQQ', 1000, 167.50, 168.90, 0)"
   ]
  },
  {
   "cell_type": "markdown",
   "metadata": {},
   "source": [
    "This is a basic Example where just 1 trade per day of QQQ occurs. I have set the date as my index. If you want to list multiple trades it's very easy. Just set a # trade as index. Now I will use Pandas features to create a dataframe! \n",
    "## None of these trades are real fyi!"
   ]
  },
  {
   "cell_type": "code",
   "execution_count": 60,
   "metadata": {
    "scrolled": false
   },
   "outputs": [
    {
     "data": {
      "text/html": [
       "<div>\n",
       "<style scoped>\n",
       "    .dataframe tbody tr th:only-of-type {\n",
       "        vertical-align: middle;\n",
       "    }\n",
       "\n",
       "    .dataframe tbody tr th {\n",
       "        vertical-align: top;\n",
       "    }\n",
       "\n",
       "    .dataframe thead th {\n",
       "        text-align: right;\n",
       "    }\n",
       "</style>\n",
       "<table border=\"1\" class=\"dataframe\">\n",
       "  <thead>\n",
       "    <tr style=\"text-align: right;\">\n",
       "      <th></th>\n",
       "      <th>Ticker</th>\n",
       "      <th>Shares</th>\n",
       "      <th>Buy</th>\n",
       "      <th>Sell</th>\n",
       "      <th>Commission</th>\n",
       "      <th>Gain_Loss</th>\n",
       "      <th>% Change</th>\n",
       "    </tr>\n",
       "  </thead>\n",
       "  <tbody>\n",
       "    <tr>\n",
       "      <th>2018-11-01</th>\n",
       "      <td>QQQ</td>\n",
       "      <td>1000.0</td>\n",
       "      <td>170.00</td>\n",
       "      <td>169.00</td>\n",
       "      <td>0.0</td>\n",
       "      <td>-1000.0</td>\n",
       "      <td>-0.005882</td>\n",
       "    </tr>\n",
       "    <tr>\n",
       "      <th>2018-11-02</th>\n",
       "      <td>QQQ</td>\n",
       "      <td>1000.0</td>\n",
       "      <td>170.00</td>\n",
       "      <td>171.00</td>\n",
       "      <td>0.0</td>\n",
       "      <td>1000.0</td>\n",
       "      <td>0.005882</td>\n",
       "    </tr>\n",
       "    <tr>\n",
       "      <th>2018-11-03</th>\n",
       "      <td>QQQ</td>\n",
       "      <td>1000.0</td>\n",
       "      <td>170.00</td>\n",
       "      <td>169.00</td>\n",
       "      <td>0.0</td>\n",
       "      <td>-1000.0</td>\n",
       "      <td>-0.005882</td>\n",
       "    </tr>\n",
       "    <tr>\n",
       "      <th>2018-11-04</th>\n",
       "      <td>QQQ</td>\n",
       "      <td>1000.0</td>\n",
       "      <td>168.12</td>\n",
       "      <td>166.57</td>\n",
       "      <td>0.0</td>\n",
       "      <td>-1550.0</td>\n",
       "      <td>-0.009220</td>\n",
       "    </tr>\n",
       "    <tr>\n",
       "      <th>2018-11-05</th>\n",
       "      <td>QQQ</td>\n",
       "      <td>1000.0</td>\n",
       "      <td>166.50</td>\n",
       "      <td>168.13</td>\n",
       "      <td>0.0</td>\n",
       "      <td>1630.0</td>\n",
       "      <td>0.009790</td>\n",
       "    </tr>\n",
       "    <tr>\n",
       "      <th>2018-11-06</th>\n",
       "      <td>QQQ</td>\n",
       "      <td>1000.0</td>\n",
       "      <td>168.50</td>\n",
       "      <td>168.90</td>\n",
       "      <td>0.0</td>\n",
       "      <td>400.0</td>\n",
       "      <td>0.002374</td>\n",
       "    </tr>\n",
       "    <tr>\n",
       "      <th>2018-11-07</th>\n",
       "      <td>QQQ</td>\n",
       "      <td>1000.0</td>\n",
       "      <td>167.50</td>\n",
       "      <td>168.90</td>\n",
       "      <td>0.0</td>\n",
       "      <td>1400.0</td>\n",
       "      <td>0.008358</td>\n",
       "    </tr>\n",
       "  </tbody>\n",
       "</table>\n",
       "</div>"
      ],
      "text/plain": [
       "           Ticker  Shares     Buy    Sell  Commission  Gain_Loss  % Change\n",
       "2018-11-01    QQQ  1000.0  170.00  169.00         0.0    -1000.0 -0.005882\n",
       "2018-11-02    QQQ  1000.0  170.00  171.00         0.0     1000.0  0.005882\n",
       "2018-11-03    QQQ  1000.0  170.00  169.00         0.0    -1000.0 -0.005882\n",
       "2018-11-04    QQQ  1000.0  168.12  166.57         0.0    -1550.0 -0.009220\n",
       "2018-11-05    QQQ  1000.0  166.50  168.13         0.0     1630.0  0.009790\n",
       "2018-11-06    QQQ  1000.0  168.50  168.90         0.0      400.0  0.002374\n",
       "2018-11-07    QQQ  1000.0  167.50  168.90         0.0     1400.0  0.008358"
      ]
     },
     "execution_count": 60,
     "metadata": {},
     "output_type": "execute_result"
    }
   ],
   "source": [
    "df=pd.DataFrame(stock).T\n",
    "df.drop(['Date'], axis=1, inplace=True)\n",
    "df=df[['Ticker', 'Shares', 'Buy', 'Sell', 'Commission' ]]\n",
    "df[['Shares','Buy','Sell','Commission']]=df[['Shares','Buy','Sell','Commission']].astype(float)\n",
    "df['Gain_Loss']=(df['Shares']*df['Sell'])-(df['Shares']*df['Buy'])-df['Commission']\n",
    "df['% Change']=df['Gain_Loss']/(df['Shares']*df['Buy'])\n",
    "df"
   ]
  },
  {
   "cell_type": "markdown",
   "metadata": {},
   "source": [
    "Just add a new line of code for each trade and it will automatically be added to dataframe once you re-execute each cell"
   ]
  },
  {
   "cell_type": "markdown",
   "metadata": {},
   "source": [
    "## Time for some charts!"
   ]
  },
  {
   "cell_type": "code",
   "execution_count": 76,
   "metadata": {},
   "outputs": [
    {
     "data": {
      "text/plain": [
       "<matplotlib.lines.Line2D at 0x11cce2518>"
      ]
     },
     "execution_count": 76,
     "metadata": {},
     "output_type": "execute_result"
    },
    {
     "data": {
      "image/png": "[encoded data removed]",
      "text/plain": [
       "<Figure size 720x432 with 1 Axes>"
      ]
     },
     "metadata": {},
     "output_type": "display_data"
    }
   ],
   "source": [
    "fig, ax = plt.subplots(figsize=(10,6))\n",
    "plt.title(\"Trades\")\n",
    "plt.bar(x=df.index,height=df.Gain_Loss,color='g')\n",
    "ax.get_yaxis().set_major_formatter(plt.FuncFormatter(lambda x, loc: \"$\"+\"{:,}\".format(int(x))))\n",
    "plt.axhline(0, color='b')"
   ]
  },
  {
   "cell_type": "markdown",
   "metadata": {},
   "source": [
    "Finally to make that equity curve, add a new dataframe utalizing the pandas.cumsum function"
   ]
  },
  {
   "cell_type": "code",
   "execution_count": 62,
   "metadata": {},
   "outputs": [
    {
     "data": {
      "text/html": [
       "<div>\n",
       "<style scoped>\n",
       "    .dataframe tbody tr th:only-of-type {\n",
       "        vertical-align: middle;\n",
       "    }\n",
       "\n",
       "    .dataframe tbody tr th {\n",
       "        vertical-align: top;\n",
       "    }\n",
       "\n",
       "    .dataframe thead th {\n",
       "        text-align: right;\n",
       "    }\n",
       "</style>\n",
       "<table border=\"1\" class=\"dataframe\">\n",
       "  <thead>\n",
       "    <tr style=\"text-align: right;\">\n",
       "      <th></th>\n",
       "      <th>YTD</th>\n",
       "    </tr>\n",
       "  </thead>\n",
       "  <tbody>\n",
       "    <tr>\n",
       "      <th>2018-11-01</th>\n",
       "      <td>-1000.0</td>\n",
       "    </tr>\n",
       "    <tr>\n",
       "      <th>2018-11-02</th>\n",
       "      <td>0.0</td>\n",
       "    </tr>\n",
       "    <tr>\n",
       "      <th>2018-11-03</th>\n",
       "      <td>-1000.0</td>\n",
       "    </tr>\n",
       "    <tr>\n",
       "      <th>2018-11-04</th>\n",
       "      <td>-2550.0</td>\n",
       "    </tr>\n",
       "    <tr>\n",
       "      <th>2018-11-05</th>\n",
       "      <td>-920.0</td>\n",
       "    </tr>\n",
       "    <tr>\n",
       "      <th>2018-11-06</th>\n",
       "      <td>-520.0</td>\n",
       "    </tr>\n",
       "    <tr>\n",
       "      <th>2018-11-07</th>\n",
       "      <td>880.0</td>\n",
       "    </tr>\n",
       "  </tbody>\n",
       "</table>\n",
       "</div>"
      ],
      "text/plain": [
       "               YTD\n",
       "2018-11-01 -1000.0\n",
       "2018-11-02     0.0\n",
       "2018-11-03 -1000.0\n",
       "2018-11-04 -2550.0\n",
       "2018-11-05  -920.0\n",
       "2018-11-06  -520.0\n",
       "2018-11-07   880.0"
      ]
     },
     "execution_count": 62,
     "metadata": {},
     "output_type": "execute_result"
    }
   ],
   "source": [
    "new_df=df\n",
    "new_df['YTD']=new_df['Gain_Loss'].cumsum(axis=0)\n",
    "new_df=new_df[['YTD']]\n",
    "new_df"
   ]
  },
  {
   "cell_type": "code",
   "execution_count": 79,
   "metadata": {},
   "outputs": [
    {
     "data": {
      "text/plain": [
       "<matplotlib.lines.Line2D at 0x11dd7ea20>"
      ]
     },
     "execution_count": 79,
     "metadata": {},
     "output_type": "execute_result"
    },
    {
     "data": {
      "image/png": "[encoded data removed]",
      "text/plain": [
       "<Figure size 720x432 with 1 Axes>"
      ]
     },
     "metadata": {},
     "output_type": "display_data"
    }
   ],
   "source": [
    "fig, ax = plt.subplots(figsize=(10,6))\n",
    "plt.title(\"Equity Curve\")\n",
    "plt.plot(new_df)\n",
    "ax.get_yaxis().set_major_formatter(plt.FuncFormatter(lambda x, loc: \"$\"+\"{:,}\".format(int(x))))\n",
    "plt.axhline(0, color='k')"
   ]
  },
  {
   "cell_type": "code",
   "execution_count": null,
   "metadata": {},
   "outputs": [],
   "source": []
  }
 ],
 "metadata": {
  "kernelspec": {
   "display_name": "Python 3",
   "language": "python",
   "name": "python3"
  },
  "language_info": {
   "codemirror_mode": {
    "name": "ipython",
    "version": 3
   },
   "file_extension": ".py",
   "mimetype": "text/x-python",
   "name": "python",
   "nbconvert_exporter": "python",
   "pygments_lexer": "ipython3",
   "version": "3.6.5"
  }
 },
 "nbformat": 4,
 "nbformat_minor": 2
}
