{
 "cells": [
  {
   "cell_type": "markdown",
   "metadata": {},
   "source": [
    "## Stock/Portfolio Spreadsheet\n",
    "In this notebook I will show a basic spreadsheet. Who needs Excel when you can code!"
   ]
  },
  {
   "cell_type": "code",
   "execution_count": 1,
   "metadata": {},
   "outputs": [],
   "source": [
    "#Imports\n",
    "import pandas as pd\n",
    "import numpy as np\n",
    "import seaborn as sns\n",
    "import matplotlib.pyplot as plt\n",
    "%matplotlib inline"
   ]
  },
  {
   "cell_type": "markdown",
   "metadata": {},
   "source": [
    "The key to creating a spreadsheet from scratch is to create a dictionary. "
   ]
  },
  {
   "cell_type": "code",
   "execution_count": 2,
   "metadata": {},
   "outputs": [],
   "source": [
    "begin= {\n",
    "    \"Date\":'2018-11-01',\n",
    "    \"Ticker\":'QQQ',\n",
    "    \"Shares\":1000,\n",
    "    \"Buy\": 169.70,\n",
    "    \"Sell\":171.00,\n",
    "    \"Commission\": 0\n",
    "    \n",
    "}"
   ]
  },
  {
   "cell_type": "markdown",
   "metadata": {},
   "source": [
    "The next step is to create a nested dictionary: This will allow everything to work"
   ]
  },
  {
   "cell_type": "code",
   "execution_count": 3,
   "metadata": {},
   "outputs": [
    {
     "data": {
      "text/plain": [
       "{'2018-11-01': {'Date': '2018-11-01',\n",
       "  'Ticker': 'QQQ',\n",
       "  'Shares': 1000,\n",
       "  'Buy': 169.7,\n",
       "  'Sell': 171.0,\n",
       "  'Commission': 0}}"
      ]
     },
     "metadata": {},
     "output_type": "display_data"
    }
   ],
   "source": [
    "stock = {\n",
    "    begin['Date']:begin\n",
    "}\n",
    "\n",
    "display(stock)"
   ]
  },
  {
   "cell_type": "markdown",
   "metadata": {},
   "source": [
    "Set a formula so that I can update dictionary with new trades"
   ]
  },
  {
   "cell_type": "code",
   "execution_count": 4,
   "metadata": {},
   "outputs": [],
   "source": [
    "def add_date(stock_dict, Date, Ticker, Shares, Buy, Sell, Commission):\n",
    "    new_date = {\n",
    "        \"Date\": Date,\n",
    "        \"Ticker\": Ticker,\n",
    "        \"Shares\": Shares,\n",
    "        \"Buy\": Buy,\n",
    "        \"Sell\": Sell,\n",
    "        \"Commission\": Commission\n",
    "        \n",
    "        \n",
    "        \n",
    "    }\n",
    "    stock_dict[new_date['Date']] = new_date \n",
    "    print(\"{} added!\".format(new_date['Date']))     "
   ]
  },
  {
   "cell_type": "markdown",
   "metadata": {},
   "source": [
    "Now can enter the trades in 1 line of code: The added! gives confimation"
   ]
  },
  {
   "cell_type": "code",
   "execution_count": 5,
   "metadata": {},
   "outputs": [
    {
     "name": "stdout",
     "output_type": "stream",
     "text": [
      "2018-11-02 added!\n"
     ]
    }
   ],
   "source": [
    "add_date(stock, '2018-11-02', 'QQQ', 1000, 170.00, 171.00, 0)"
   ]
  },
  {
   "cell_type": "code",
   "execution_count": 6,
   "metadata": {
    "scrolled": true
   },
   "outputs": [
    {
     "name": "stdout",
     "output_type": "stream",
     "text": [
      "2018-11-03 added!\n"
     ]
    }
   ],
   "source": [
    "add_date(stock, '2018-11-03', 'QQQ', 1000, 170.00, 169.00, 0)"
   ]
  },
  {
   "cell_type": "code",
   "execution_count": 7,
   "metadata": {},
   "outputs": [
    {
     "name": "stdout",
     "output_type": "stream",
     "text": [
      "2018-11-04 added!\n"
     ]
    }
   ],
   "source": [
    "add_date(stock, '2018-11-04', 'QQQ', 1000, 168.12, 166.57, 0)"
   ]
  },
  {
   "cell_type": "code",
   "execution_count": 8,
   "metadata": {},
   "outputs": [
    {
     "name": "stdout",
     "output_type": "stream",
     "text": [
      "2018-11-05 added!\n"
     ]
    }
   ],
   "source": [
    "add_date(stock, '2018-11-05', 'QQQ', 1000, 166.50, 168.13, 0)"
   ]
  },
  {
   "cell_type": "code",
   "execution_count": 9,
   "metadata": {},
   "outputs": [
    {
     "name": "stdout",
     "output_type": "stream",
     "text": [
      "2018-11-06 added!\n"
     ]
    }
   ],
   "source": [
    "add_date(stock, '2018-11-06', 'QQQ', 1000, 168.50, 168.90, 0)"
   ]
  },
  {
   "cell_type": "code",
   "execution_count": 10,
   "metadata": {},
   "outputs": [
    {
     "name": "stdout",
     "output_type": "stream",
     "text": [
      "2018-11-07 added!\n"
     ]
    }
   ],
   "source": [
    "add_date(stock, '2018-11-07', 'QQQ', 1000, 167.50, 168.90, 0)"
   ]
  },
  {
   "cell_type": "code",
   "execution_count": 11,
   "metadata": {},
   "outputs": [
    {
     "name": "stdout",
     "output_type": "stream",
     "text": [
      "2018-11-08 added!\n"
     ]
    }
   ],
   "source": [
    "add_date(stock, '2018-11-08', 'QQQ', 1000, 172.00, 175.00, 14)"
   ]
  },
  {
   "cell_type": "markdown",
   "metadata": {},
   "source": [
    "This is a basic Example where just 1 trade per day of QQQ occurs. I have set the date as my index. If you want to list multiple trades it's very easy. Just set a # trade as index. Now I will use Pandas features to create a dataframe! \n",
    "## None of these trades are real fyi!"
   ]
  },
  {
   "cell_type": "code",
   "execution_count": 12,
   "metadata": {},
   "outputs": [],
   "source": [
    "def color_negative_red(value):\n",
    "    color = 'red' if value < 0 else 'green'\n",
    "    return 'color: %s' % color"
   ]
  },
  {
   "cell_type": "code",
   "execution_count": 13,
   "metadata": {
    "scrolled": false
   },
   "outputs": [
    {
     "data": {
      "text/html": [
       "<style  type=\"text/css\" >\n",
       "    #T_f59d2734_e690_11e8_8636_086d41c00a9crow0_col5 {\n",
       "            color:  green;\n",
       "        }    #T_f59d2734_e690_11e8_8636_086d41c00a9crow1_col5 {\n",
       "            color:  green;\n",
       "        }    #T_f59d2734_e690_11e8_8636_086d41c00a9crow2_col5 {\n",
       "            color:  red;\n",
       "        }    #T_f59d2734_e690_11e8_8636_086d41c00a9crow3_col5 {\n",
       "            color:  red;\n",
       "        }    #T_f59d2734_e690_11e8_8636_086d41c00a9crow4_col5 {\n",
       "            color:  green;\n",
       "        }    #T_f59d2734_e690_11e8_8636_086d41c00a9crow5_col5 {\n",
       "            color:  green;\n",
       "        }    #T_f59d2734_e690_11e8_8636_086d41c00a9crow6_col5 {\n",
       "            color:  green;\n",
       "        }    #T_f59d2734_e690_11e8_8636_086d41c00a9crow7_col5 {\n",
       "            color:  green;\n",
       "        }</style>  \n",
       "<table id=\"T_f59d2734_e690_11e8_8636_086d41c00a9c\" > \n",
       "<thead>    <tr> \n",
       "        <th class=\"blank level0\" ></th> \n",
       "        <th class=\"col_heading level0 col0\" >Ticker</th> \n",
       "        <th class=\"col_heading level0 col1\" >Shares</th> \n",
       "        <th class=\"col_heading level0 col2\" >Buy</th> \n",
       "        <th class=\"col_heading level0 col3\" >Sell</th> \n",
       "        <th class=\"col_heading level0 col4\" >Commission</th> \n",
       "        <th class=\"col_heading level0 col5\" >Gain_Loss</th> \n",
       "        <th class=\"col_heading level0 col6\" >% Change</th> \n",
       "    </tr></thead> \n",
       "<tbody>    <tr> \n",
       "        <th id=\"T_f59d2734_e690_11e8_8636_086d41c00a9clevel0_row0\" class=\"row_heading level0 row0\" >2018-11-01</th> \n",
       "        <td id=\"T_f59d2734_e690_11e8_8636_086d41c00a9crow0_col0\" class=\"data row0 col0\" >QQQ</td> \n",
       "        <td id=\"T_f59d2734_e690_11e8_8636_086d41c00a9crow0_col1\" class=\"data row0 col1\" >1000</td> \n",
       "        <td id=\"T_f59d2734_e690_11e8_8636_086d41c00a9crow0_col2\" class=\"data row0 col2\" >169.7</td> \n",
       "        <td id=\"T_f59d2734_e690_11e8_8636_086d41c00a9crow0_col3\" class=\"data row0 col3\" >171</td> \n",
       "        <td id=\"T_f59d2734_e690_11e8_8636_086d41c00a9crow0_col4\" class=\"data row0 col4\" >0</td> \n",
       "        <td id=\"T_f59d2734_e690_11e8_8636_086d41c00a9crow0_col5\" class=\"data row0 col5\" >1300</td> \n",
       "        <td id=\"T_f59d2734_e690_11e8_8636_086d41c00a9crow0_col6\" class=\"data row0 col6\" >0.77%</td> \n",
       "    </tr>    <tr> \n",
       "        <th id=\"T_f59d2734_e690_11e8_8636_086d41c00a9clevel0_row1\" class=\"row_heading level0 row1\" >2018-11-02</th> \n",
       "        <td id=\"T_f59d2734_e690_11e8_8636_086d41c00a9crow1_col0\" class=\"data row1 col0\" >QQQ</td> \n",
       "        <td id=\"T_f59d2734_e690_11e8_8636_086d41c00a9crow1_col1\" class=\"data row1 col1\" >1000</td> \n",
       "        <td id=\"T_f59d2734_e690_11e8_8636_086d41c00a9crow1_col2\" class=\"data row1 col2\" >170</td> \n",
       "        <td id=\"T_f59d2734_e690_11e8_8636_086d41c00a9crow1_col3\" class=\"data row1 col3\" >171</td> \n",
       "        <td id=\"T_f59d2734_e690_11e8_8636_086d41c00a9crow1_col4\" class=\"data row1 col4\" >0</td> \n",
       "        <td id=\"T_f59d2734_e690_11e8_8636_086d41c00a9crow1_col5\" class=\"data row1 col5\" >1000</td> \n",
       "        <td id=\"T_f59d2734_e690_11e8_8636_086d41c00a9crow1_col6\" class=\"data row1 col6\" >0.59%</td> \n",
       "    </tr>    <tr> \n",
       "        <th id=\"T_f59d2734_e690_11e8_8636_086d41c00a9clevel0_row2\" class=\"row_heading level0 row2\" >2018-11-03</th> \n",
       "        <td id=\"T_f59d2734_e690_11e8_8636_086d41c00a9crow2_col0\" class=\"data row2 col0\" >QQQ</td> \n",
       "        <td id=\"T_f59d2734_e690_11e8_8636_086d41c00a9crow2_col1\" class=\"data row2 col1\" >1000</td> \n",
       "        <td id=\"T_f59d2734_e690_11e8_8636_086d41c00a9crow2_col2\" class=\"data row2 col2\" >170</td> \n",
       "        <td id=\"T_f59d2734_e690_11e8_8636_086d41c00a9crow2_col3\" class=\"data row2 col3\" >169</td> \n",
       "        <td id=\"T_f59d2734_e690_11e8_8636_086d41c00a9crow2_col4\" class=\"data row2 col4\" >0</td> \n",
       "        <td id=\"T_f59d2734_e690_11e8_8636_086d41c00a9crow2_col5\" class=\"data row2 col5\" >-1000</td> \n",
       "        <td id=\"T_f59d2734_e690_11e8_8636_086d41c00a9crow2_col6\" class=\"data row2 col6\" >0.59%</td> \n",
       "    </tr>    <tr> \n",
       "        <th id=\"T_f59d2734_e690_11e8_8636_086d41c00a9clevel0_row3\" class=\"row_heading level0 row3\" >2018-11-04</th> \n",
       "        <td id=\"T_f59d2734_e690_11e8_8636_086d41c00a9crow3_col0\" class=\"data row3 col0\" >QQQ</td> \n",
       "        <td id=\"T_f59d2734_e690_11e8_8636_086d41c00a9crow3_col1\" class=\"data row3 col1\" >1000</td> \n",
       "        <td id=\"T_f59d2734_e690_11e8_8636_086d41c00a9crow3_col2\" class=\"data row3 col2\" >168.12</td> \n",
       "        <td id=\"T_f59d2734_e690_11e8_8636_086d41c00a9crow3_col3\" class=\"data row3 col3\" >166.57</td> \n",
       "        <td id=\"T_f59d2734_e690_11e8_8636_086d41c00a9crow3_col4\" class=\"data row3 col4\" >0</td> \n",
       "        <td id=\"T_f59d2734_e690_11e8_8636_086d41c00a9crow3_col5\" class=\"data row3 col5\" >-1550</td> \n",
       "        <td id=\"T_f59d2734_e690_11e8_8636_086d41c00a9crow3_col6\" class=\"data row3 col6\" >0.92%</td> \n",
       "    </tr>    <tr> \n",
       "        <th id=\"T_f59d2734_e690_11e8_8636_086d41c00a9clevel0_row4\" class=\"row_heading level0 row4\" >2018-11-05</th> \n",
       "        <td id=\"T_f59d2734_e690_11e8_8636_086d41c00a9crow4_col0\" class=\"data row4 col0\" >QQQ</td> \n",
       "        <td id=\"T_f59d2734_e690_11e8_8636_086d41c00a9crow4_col1\" class=\"data row4 col1\" >1000</td> \n",
       "        <td id=\"T_f59d2734_e690_11e8_8636_086d41c00a9crow4_col2\" class=\"data row4 col2\" >166.5</td> \n",
       "        <td id=\"T_f59d2734_e690_11e8_8636_086d41c00a9crow4_col3\" class=\"data row4 col3\" >168.13</td> \n",
       "        <td id=\"T_f59d2734_e690_11e8_8636_086d41c00a9crow4_col4\" class=\"data row4 col4\" >0</td> \n",
       "        <td id=\"T_f59d2734_e690_11e8_8636_086d41c00a9crow4_col5\" class=\"data row4 col5\" >1630</td> \n",
       "        <td id=\"T_f59d2734_e690_11e8_8636_086d41c00a9crow4_col6\" class=\"data row4 col6\" >0.98%</td> \n",
       "    </tr>    <tr> \n",
       "        <th id=\"T_f59d2734_e690_11e8_8636_086d41c00a9clevel0_row5\" class=\"row_heading level0 row5\" >2018-11-06</th> \n",
       "        <td id=\"T_f59d2734_e690_11e8_8636_086d41c00a9crow5_col0\" class=\"data row5 col0\" >QQQ</td> \n",
       "        <td id=\"T_f59d2734_e690_11e8_8636_086d41c00a9crow5_col1\" class=\"data row5 col1\" >1000</td> \n",
       "        <td id=\"T_f59d2734_e690_11e8_8636_086d41c00a9crow5_col2\" class=\"data row5 col2\" >168.5</td> \n",
       "        <td id=\"T_f59d2734_e690_11e8_8636_086d41c00a9crow5_col3\" class=\"data row5 col3\" >168.9</td> \n",
       "        <td id=\"T_f59d2734_e690_11e8_8636_086d41c00a9crow5_col4\" class=\"data row5 col4\" >0</td> \n",
       "        <td id=\"T_f59d2734_e690_11e8_8636_086d41c00a9crow5_col5\" class=\"data row5 col5\" >400</td> \n",
       "        <td id=\"T_f59d2734_e690_11e8_8636_086d41c00a9crow5_col6\" class=\"data row5 col6\" >0.24%</td> \n",
       "    </tr>    <tr> \n",
       "        <th id=\"T_f59d2734_e690_11e8_8636_086d41c00a9clevel0_row6\" class=\"row_heading level0 row6\" >2018-11-07</th> \n",
       "        <td id=\"T_f59d2734_e690_11e8_8636_086d41c00a9crow6_col0\" class=\"data row6 col0\" >QQQ</td> \n",
       "        <td id=\"T_f59d2734_e690_11e8_8636_086d41c00a9crow6_col1\" class=\"data row6 col1\" >1000</td> \n",
       "        <td id=\"T_f59d2734_e690_11e8_8636_086d41c00a9crow6_col2\" class=\"data row6 col2\" >167.5</td> \n",
       "        <td id=\"T_f59d2734_e690_11e8_8636_086d41c00a9crow6_col3\" class=\"data row6 col3\" >168.9</td> \n",
       "        <td id=\"T_f59d2734_e690_11e8_8636_086d41c00a9crow6_col4\" class=\"data row6 col4\" >0</td> \n",
       "        <td id=\"T_f59d2734_e690_11e8_8636_086d41c00a9crow6_col5\" class=\"data row6 col5\" >1400</td> \n",
       "        <td id=\"T_f59d2734_e690_11e8_8636_086d41c00a9crow6_col6\" class=\"data row6 col6\" >0.84%</td> \n",
       "    </tr>    <tr> \n",
       "        <th id=\"T_f59d2734_e690_11e8_8636_086d41c00a9clevel0_row7\" class=\"row_heading level0 row7\" >2018-11-08</th> \n",
       "        <td id=\"T_f59d2734_e690_11e8_8636_086d41c00a9crow7_col0\" class=\"data row7 col0\" >QQQ</td> \n",
       "        <td id=\"T_f59d2734_e690_11e8_8636_086d41c00a9crow7_col1\" class=\"data row7 col1\" >1000</td> \n",
       "        <td id=\"T_f59d2734_e690_11e8_8636_086d41c00a9crow7_col2\" class=\"data row7 col2\" >172</td> \n",
       "        <td id=\"T_f59d2734_e690_11e8_8636_086d41c00a9crow7_col3\" class=\"data row7 col3\" >175</td> \n",
       "        <td id=\"T_f59d2734_e690_11e8_8636_086d41c00a9crow7_col4\" class=\"data row7 col4\" >14</td> \n",
       "        <td id=\"T_f59d2734_e690_11e8_8636_086d41c00a9crow7_col5\" class=\"data row7 col5\" >2986</td> \n",
       "        <td id=\"T_f59d2734_e690_11e8_8636_086d41c00a9crow7_col6\" class=\"data row7 col6\" >1.74%</td> \n",
       "    </tr></tbody> \n",
       "</table> "
      ],
      "text/plain": [
       "<pandas.io.formats.style.Styler at 0x1a16a80208>"
      ]
     },
     "execution_count": 13,
     "metadata": {},
     "output_type": "execute_result"
    }
   ],
   "source": [
    "df=pd.DataFrame(stock).T\n",
    "df.drop(['Date'], axis=1, inplace=True)\n",
    "df=df[['Ticker', 'Shares', 'Buy', 'Sell', 'Commission' ]]\n",
    "df[['Shares','Buy','Sell','Commission']]=df[['Shares','Buy','Sell','Commission']].astype(float)\n",
    "df['Gain_Loss']=(df['Shares']*df['Sell'])-(df['Shares']*df['Buy'])-df['Commission']\n",
    "df['% Change']=df['Gain_Loss']/(df['Shares']*df['Buy'])\n",
    "df.style.applymap(color_negative_red, subset=['Gain_Loss']).format({\"% Change\": lambda x: \"{:.2%}\".format(abs(x))})\n"
   ]
  },
  {
   "cell_type": "markdown",
   "metadata": {},
   "source": [
    "Just add a new line of code for each trade and it will automatically be added to dataframe once you re-execute each cell"
   ]
  },
  {
   "cell_type": "markdown",
   "metadata": {},
   "source": [
    "## Time for some charts!"
   ]
  },
  {
   "cell_type": "code",
   "execution_count": 15,
   "metadata": {},
   "outputs": [
    {
     "data": {
      "image/png": "[encoded data removed]",
      "text/plain": [
       "<Figure size 720x576 with 1 Axes>"
      ]
     },
     "metadata": {},
     "output_type": "display_data"
    }
   ],
   "source": [
    "fig, ax = plt.subplots(figsize=(10,8))\n",
    "plt.title(\"Trades\", fontsize = 15, weight = 'bold')\n",
    "barplot=plt.bar(x=df.index,height=df.Gain_Loss,color='darkgreen')\n",
    "barplot[2].set_color('darkred')\n",
    "barplot[3].set_color('darkred')\n",
    "ax.get_yaxis().set_major_formatter(plt.FuncFormatter(lambda x, loc: \"$\"+\"{:,}\".format(int(x))))\n",
    "plt.axhline(0, color='b')\n",
    "plt.ylabel('P/L', fontsize = 14)\n",
    "plt.xlabel('Date', fontsize = 14)\n",
    "sns.set_style(\"darkgrid\")\n",
    "plt.show()"
   ]
  },
  {
   "cell_type": "markdown",
   "metadata": {},
   "source": [
    "Finally to make that equity curve, add a new dataframe utalizing the pandas.cumsum function"
   ]
  },
  {
   "cell_type": "code",
   "execution_count": 16,
   "metadata": {},
   "outputs": [
    {
     "data": {
      "text/html": [
       "<style  type=\"text/css\" >\n",
       "    #T_2a2db5cc_e691_11e8_9872_086d41c00a9crow0_col0 {\n",
       "            color:  green;\n",
       "        }    #T_2a2db5cc_e691_11e8_9872_086d41c00a9crow1_col0 {\n",
       "            color:  green;\n",
       "        }    #T_2a2db5cc_e691_11e8_9872_086d41c00a9crow2_col0 {\n",
       "            color:  green;\n",
       "        }    #T_2a2db5cc_e691_11e8_9872_086d41c00a9crow3_col0 {\n",
       "            color:  red;\n",
       "        }    #T_2a2db5cc_e691_11e8_9872_086d41c00a9crow4_col0 {\n",
       "            color:  green;\n",
       "        }    #T_2a2db5cc_e691_11e8_9872_086d41c00a9crow5_col0 {\n",
       "            color:  green;\n",
       "        }    #T_2a2db5cc_e691_11e8_9872_086d41c00a9crow6_col0 {\n",
       "            color:  green;\n",
       "        }    #T_2a2db5cc_e691_11e8_9872_086d41c00a9crow7_col0 {\n",
       "            color:  green;\n",
       "        }</style>  \n",
       "<table id=\"T_2a2db5cc_e691_11e8_9872_086d41c00a9c\" > \n",
       "<thead>    <tr> \n",
       "        <th class=\"blank level0\" ></th> \n",
       "        <th class=\"col_heading level0 col0\" >YTD</th> \n",
       "    </tr></thead> \n",
       "<tbody>    <tr> \n",
       "        <th id=\"T_2a2db5cc_e691_11e8_9872_086d41c00a9clevel0_row0\" class=\"row_heading level0 row0\" >2018-11-01</th> \n",
       "        <td id=\"T_2a2db5cc_e691_11e8_9872_086d41c00a9crow0_col0\" class=\"data row0 col0\" >1300</td> \n",
       "    </tr>    <tr> \n",
       "        <th id=\"T_2a2db5cc_e691_11e8_9872_086d41c00a9clevel0_row1\" class=\"row_heading level0 row1\" >2018-11-02</th> \n",
       "        <td id=\"T_2a2db5cc_e691_11e8_9872_086d41c00a9crow1_col0\" class=\"data row1 col0\" >2300</td> \n",
       "    </tr>    <tr> \n",
       "        <th id=\"T_2a2db5cc_e691_11e8_9872_086d41c00a9clevel0_row2\" class=\"row_heading level0 row2\" >2018-11-03</th> \n",
       "        <td id=\"T_2a2db5cc_e691_11e8_9872_086d41c00a9crow2_col0\" class=\"data row2 col0\" >1300</td> \n",
       "    </tr>    <tr> \n",
       "        <th id=\"T_2a2db5cc_e691_11e8_9872_086d41c00a9clevel0_row3\" class=\"row_heading level0 row3\" >2018-11-04</th> \n",
       "        <td id=\"T_2a2db5cc_e691_11e8_9872_086d41c00a9crow3_col0\" class=\"data row3 col0\" >-250</td> \n",
       "    </tr>    <tr> \n",
       "        <th id=\"T_2a2db5cc_e691_11e8_9872_086d41c00a9clevel0_row4\" class=\"row_heading level0 row4\" >2018-11-05</th> \n",
       "        <td id=\"T_2a2db5cc_e691_11e8_9872_086d41c00a9crow4_col0\" class=\"data row4 col0\" >1380</td> \n",
       "    </tr>    <tr> \n",
       "        <th id=\"T_2a2db5cc_e691_11e8_9872_086d41c00a9clevel0_row5\" class=\"row_heading level0 row5\" >2018-11-06</th> \n",
       "        <td id=\"T_2a2db5cc_e691_11e8_9872_086d41c00a9crow5_col0\" class=\"data row5 col0\" >1780</td> \n",
       "    </tr>    <tr> \n",
       "        <th id=\"T_2a2db5cc_e691_11e8_9872_086d41c00a9clevel0_row6\" class=\"row_heading level0 row6\" >2018-11-07</th> \n",
       "        <td id=\"T_2a2db5cc_e691_11e8_9872_086d41c00a9crow6_col0\" class=\"data row6 col0\" >3180</td> \n",
       "    </tr>    <tr> \n",
       "        <th id=\"T_2a2db5cc_e691_11e8_9872_086d41c00a9clevel0_row7\" class=\"row_heading level0 row7\" >2018-11-08</th> \n",
       "        <td id=\"T_2a2db5cc_e691_11e8_9872_086d41c00a9crow7_col0\" class=\"data row7 col0\" >6166</td> \n",
       "    </tr></tbody> \n",
       "</table> "
      ],
      "text/plain": [
       "<pandas.io.formats.style.Styler at 0x1a16a22438>"
      ]
     },
     "execution_count": 16,
     "metadata": {},
     "output_type": "execute_result"
    }
   ],
   "source": [
    "new_df=df\n",
    "new_df['YTD']=new_df['Gain_Loss'].cumsum(axis=0)\n",
    "new_df=new_df[['YTD']]\n",
    "new_df.style.applymap(color_negative_red, subset=['YTD'])"
   ]
  },
  {
   "cell_type": "code",
   "execution_count": 17,
   "metadata": {},
   "outputs": [
    {
     "data": {
      "image/png": "[encoded data removed]",
      "text/plain": [
       "<Figure size 720x576 with 1 Axes>"
      ]
     },
     "metadata": {},
     "output_type": "display_data"
    }
   ],
   "source": [
    "fig, ax = plt.subplots(figsize=(10,8))\n",
    "plt.title(\"Equity Curve\",fontsize = 15, weight = 'bold')\n",
    "plt.plot(new_df)\n",
    "ax.get_yaxis().set_major_formatter(plt.FuncFormatter(lambda x, loc: \"$\"+\"{:,}\".format(int(x))))\n",
    "plt.axhline(0, color='k')\n",
    "plt.ylabel('P/L', fontsize = 14)\n",
    "plt.xlabel('Date', fontsize = 14)\n",
    "sns.set_style(\"darkgrid\")\n",
    "plt.show()"
   ]
  }
 ],
 "metadata": {
  "kernelspec": {
   "display_name": "Python 3",
   "language": "python",
   "name": "python3"
  },
  "language_info": {
   "codemirror_mode": {
    "name": "ipython",
    "version": 3
   },
   "file_extension": ".py",
   "mimetype": "text/x-python",
   "name": "python",
   "nbconvert_exporter": "python",
   "pygments_lexer": "ipython3",
   "version": "3.6.5"
  }
 },
 "nbformat": 4,
 "nbformat_minor": 2
}
